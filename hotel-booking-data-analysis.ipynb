{
 "cells": [
  {
   "cell_type": "markdown",
   "id": "79d37e86",
   "metadata": {
    "_cell_guid": "b1076dfc-b9ad-4769-8c92-a6c4dae69d19",
    "_uuid": "8f2839f25d086af736a60e9eeb907d3b93b6e0e5",
    "papermill": {
     "duration": 0.008561,
     "end_time": "2024-05-30T15:46:48.286298",
     "exception": false,
     "start_time": "2024-05-30T15:46:48.277737",
     "status": "completed"
    },
    "tags": []
   },
   "source": [
    "**Importing necessary libraries.**"
   ]
  },
  {
   "cell_type": "code",
   "execution_count": 1,
   "id": "bd5a9ca3",
   "metadata": {
    "execution": {
     "iopub.execute_input": "2024-05-30T15:46:48.304971Z",
     "iopub.status.busy": "2024-05-30T15:46:48.304552Z",
     "iopub.status.idle": "2024-05-30T15:46:50.891739Z",
     "shell.execute_reply": "2024-05-30T15:46:50.890341Z"
    },
    "papermill": {
     "duration": 2.600325,
     "end_time": "2024-05-30T15:46:50.895249",
     "exception": false,
     "start_time": "2024-05-30T15:46:48.294924",
     "status": "completed"
    },
    "tags": []
   },
   "outputs": [],
   "source": [
    "import pandas as pd\n",
    "import numpy as np\n",
    "import seaborn as sns\n",
    "import matplotlib.pyplot as plt"
   ]
  },
  {
   "cell_type": "markdown",
   "id": "b9d4c632",
   "metadata": {
    "papermill": {
     "duration": 0.007963,
     "end_time": "2024-05-30T15:46:50.911497",
     "exception": false,
     "start_time": "2024-05-30T15:46:50.903534",
     "status": "completed"
    },
    "tags": []
   },
   "source": [
    "**Now we will load the dataset and read the data which is in the form of csv.**"
   ]
  },
  {
   "cell_type": "code",
   "execution_count": 2,
   "id": "c6b01220",
   "metadata": {
    "execution": {
     "iopub.execute_input": "2024-05-30T15:46:50.929914Z",
     "iopub.status.busy": "2024-05-30T15:46:50.929372Z",
     "iopub.status.idle": "2024-05-30T15:46:51.764436Z",
     "shell.execute_reply": "2024-05-30T15:46:51.763154Z"
    },
    "papermill": {
     "duration": 0.84767,
     "end_time": "2024-05-30T15:46:51.767348",
     "exception": false,
     "start_time": "2024-05-30T15:46:50.919678",
     "status": "completed"
    },
    "tags": []
   },
   "outputs": [
    {
     "data": {
      "text/html": [
       "<div>\n",
       "<style scoped>\n",
       "    .dataframe tbody tr th:only-of-type {\n",
       "        vertical-align: middle;\n",
       "    }\n",
       "\n",
       "    .dataframe tbody tr th {\n",
       "        vertical-align: top;\n",
       "    }\n",
       "\n",
       "    .dataframe thead th {\n",
       "        text-align: right;\n",
       "    }\n",
       "</style>\n",
       "<table border=\"1\" class=\"dataframe\">\n",
       "  <thead>\n",
       "    <tr style=\"text-align: right;\">\n",
       "      <th></th>\n",
       "      <th>hotel</th>\n",
       "      <th>is_canceled</th>\n",
       "      <th>lead_time</th>\n",
       "      <th>arrival_date_year</th>\n",
       "      <th>arrival_date_month</th>\n",
       "      <th>arrival_date_week_number</th>\n",
       "      <th>arrival_date_day_of_month</th>\n",
       "      <th>stays_in_weekend_nights</th>\n",
       "      <th>stays_in_week_nights</th>\n",
       "      <th>adults</th>\n",
       "      <th>...</th>\n",
       "      <th>deposit_type</th>\n",
       "      <th>agent</th>\n",
       "      <th>company</th>\n",
       "      <th>days_in_waiting_list</th>\n",
       "      <th>customer_type</th>\n",
       "      <th>adr</th>\n",
       "      <th>required_car_parking_spaces</th>\n",
       "      <th>total_of_special_requests</th>\n",
       "      <th>reservation_status</th>\n",
       "      <th>reservation_status_date</th>\n",
       "    </tr>\n",
       "  </thead>\n",
       "  <tbody>\n",
       "    <tr>\n",
       "      <th>0</th>\n",
       "      <td>Resort Hotel</td>\n",
       "      <td>0</td>\n",
       "      <td>342</td>\n",
       "      <td>2015</td>\n",
       "      <td>July</td>\n",
       "      <td>27</td>\n",
       "      <td>1</td>\n",
       "      <td>0</td>\n",
       "      <td>0</td>\n",
       "      <td>2</td>\n",
       "      <td>...</td>\n",
       "      <td>No Deposit</td>\n",
       "      <td>NaN</td>\n",
       "      <td>NaN</td>\n",
       "      <td>0</td>\n",
       "      <td>Transient</td>\n",
       "      <td>0.0</td>\n",
       "      <td>0</td>\n",
       "      <td>0</td>\n",
       "      <td>Check-Out</td>\n",
       "      <td>2015-07-01</td>\n",
       "    </tr>\n",
       "    <tr>\n",
       "      <th>1</th>\n",
       "      <td>Resort Hotel</td>\n",
       "      <td>0</td>\n",
       "      <td>737</td>\n",
       "      <td>2015</td>\n",
       "      <td>July</td>\n",
       "      <td>27</td>\n",
       "      <td>1</td>\n",
       "      <td>0</td>\n",
       "      <td>0</td>\n",
       "      <td>2</td>\n",
       "      <td>...</td>\n",
       "      <td>No Deposit</td>\n",
       "      <td>NaN</td>\n",
       "      <td>NaN</td>\n",
       "      <td>0</td>\n",
       "      <td>Transient</td>\n",
       "      <td>0.0</td>\n",
       "      <td>0</td>\n",
       "      <td>0</td>\n",
       "      <td>Check-Out</td>\n",
       "      <td>2015-07-01</td>\n",
       "    </tr>\n",
       "    <tr>\n",
       "      <th>2</th>\n",
       "      <td>Resort Hotel</td>\n",
       "      <td>0</td>\n",
       "      <td>7</td>\n",
       "      <td>2015</td>\n",
       "      <td>July</td>\n",
       "      <td>27</td>\n",
       "      <td>1</td>\n",
       "      <td>0</td>\n",
       "      <td>1</td>\n",
       "      <td>1</td>\n",
       "      <td>...</td>\n",
       "      <td>No Deposit</td>\n",
       "      <td>NaN</td>\n",
       "      <td>NaN</td>\n",
       "      <td>0</td>\n",
       "      <td>Transient</td>\n",
       "      <td>75.0</td>\n",
       "      <td>0</td>\n",
       "      <td>0</td>\n",
       "      <td>Check-Out</td>\n",
       "      <td>2015-07-02</td>\n",
       "    </tr>\n",
       "    <tr>\n",
       "      <th>3</th>\n",
       "      <td>Resort Hotel</td>\n",
       "      <td>0</td>\n",
       "      <td>13</td>\n",
       "      <td>2015</td>\n",
       "      <td>July</td>\n",
       "      <td>27</td>\n",
       "      <td>1</td>\n",
       "      <td>0</td>\n",
       "      <td>1</td>\n",
       "      <td>1</td>\n",
       "      <td>...</td>\n",
       "      <td>No Deposit</td>\n",
       "      <td>304.0</td>\n",
       "      <td>NaN</td>\n",
       "      <td>0</td>\n",
       "      <td>Transient</td>\n",
       "      <td>75.0</td>\n",
       "      <td>0</td>\n",
       "      <td>0</td>\n",
       "      <td>Check-Out</td>\n",
       "      <td>2015-07-02</td>\n",
       "    </tr>\n",
       "    <tr>\n",
       "      <th>4</th>\n",
       "      <td>Resort Hotel</td>\n",
       "      <td>0</td>\n",
       "      <td>14</td>\n",
       "      <td>2015</td>\n",
       "      <td>July</td>\n",
       "      <td>27</td>\n",
       "      <td>1</td>\n",
       "      <td>0</td>\n",
       "      <td>2</td>\n",
       "      <td>2</td>\n",
       "      <td>...</td>\n",
       "      <td>No Deposit</td>\n",
       "      <td>240.0</td>\n",
       "      <td>NaN</td>\n",
       "      <td>0</td>\n",
       "      <td>Transient</td>\n",
       "      <td>98.0</td>\n",
       "      <td>0</td>\n",
       "      <td>1</td>\n",
       "      <td>Check-Out</td>\n",
       "      <td>2015-07-03</td>\n",
       "    </tr>\n",
       "  </tbody>\n",
       "</table>\n",
       "<p>5 rows × 32 columns</p>\n",
       "</div>"
      ],
      "text/plain": [
       "          hotel  is_canceled  lead_time  arrival_date_year arrival_date_month  \\\n",
       "0  Resort Hotel            0        342               2015               July   \n",
       "1  Resort Hotel            0        737               2015               July   \n",
       "2  Resort Hotel            0          7               2015               July   \n",
       "3  Resort Hotel            0         13               2015               July   \n",
       "4  Resort Hotel            0         14               2015               July   \n",
       "\n",
       "   arrival_date_week_number  arrival_date_day_of_month  \\\n",
       "0                        27                          1   \n",
       "1                        27                          1   \n",
       "2                        27                          1   \n",
       "3                        27                          1   \n",
       "4                        27                          1   \n",
       "\n",
       "   stays_in_weekend_nights  stays_in_week_nights  adults  ...  deposit_type  \\\n",
       "0                        0                     0       2  ...    No Deposit   \n",
       "1                        0                     0       2  ...    No Deposit   \n",
       "2                        0                     1       1  ...    No Deposit   \n",
       "3                        0                     1       1  ...    No Deposit   \n",
       "4                        0                     2       2  ...    No Deposit   \n",
       "\n",
       "   agent company days_in_waiting_list customer_type   adr  \\\n",
       "0    NaN     NaN                    0     Transient   0.0   \n",
       "1    NaN     NaN                    0     Transient   0.0   \n",
       "2    NaN     NaN                    0     Transient  75.0   \n",
       "3  304.0     NaN                    0     Transient  75.0   \n",
       "4  240.0     NaN                    0     Transient  98.0   \n",
       "\n",
       "   required_car_parking_spaces  total_of_special_requests  reservation_status  \\\n",
       "0                            0                          0           Check-Out   \n",
       "1                            0                          0           Check-Out   \n",
       "2                            0                          0           Check-Out   \n",
       "3                            0                          0           Check-Out   \n",
       "4                            0                          1           Check-Out   \n",
       "\n",
       "  reservation_status_date  \n",
       "0              2015-07-01  \n",
       "1              2015-07-01  \n",
       "2              2015-07-02  \n",
       "3              2015-07-02  \n",
       "4              2015-07-03  \n",
       "\n",
       "[5 rows x 32 columns]"
      ]
     },
     "execution_count": 2,
     "metadata": {},
     "output_type": "execute_result"
    }
   ],
   "source": [
    "#Reading the dataset.\n",
    "data= pd.read_csv('/kaggle/input/hotel-booking-demand/hotel_bookings.csv')\n",
    "\n",
    "#Showing the top5\n",
    "data.head(5)"
   ]
  },
  {
   "cell_type": "markdown",
   "id": "f1fe5df5",
   "metadata": {
    "papermill": {
     "duration": 0.00885,
     "end_time": "2024-05-30T15:46:51.785167",
     "exception": false,
     "start_time": "2024-05-30T15:46:51.776317",
     "status": "completed"
    },
    "tags": []
   },
   "source": [
    "**Exploring the dataset shapes and datatypes.**"
   ]
  },
  {
   "cell_type": "code",
   "execution_count": 3,
   "id": "758fabfc",
   "metadata": {
    "execution": {
     "iopub.execute_input": "2024-05-30T15:46:51.805243Z",
     "iopub.status.busy": "2024-05-30T15:46:51.804802Z",
     "iopub.status.idle": "2024-05-30T15:46:51.987871Z",
     "shell.execute_reply": "2024-05-30T15:46:51.986677Z"
    },
    "papermill": {
     "duration": 0.196085,
     "end_time": "2024-05-30T15:46:51.990547",
     "exception": false,
     "start_time": "2024-05-30T15:46:51.794462",
     "status": "completed"
    },
    "tags": []
   },
   "outputs": [
    {
     "name": "stdout",
     "output_type": "stream",
     "text": [
      "<class 'pandas.core.frame.DataFrame'>\n",
      "RangeIndex: 119390 entries, 0 to 119389\n",
      "Data columns (total 32 columns):\n",
      " #   Column                          Non-Null Count   Dtype  \n",
      "---  ------                          --------------   -----  \n",
      " 0   hotel                           119390 non-null  object \n",
      " 1   is_canceled                     119390 non-null  int64  \n",
      " 2   lead_time                       119390 non-null  int64  \n",
      " 3   arrival_date_year               119390 non-null  int64  \n",
      " 4   arrival_date_month              119390 non-null  object \n",
      " 5   arrival_date_week_number        119390 non-null  int64  \n",
      " 6   arrival_date_day_of_month       119390 non-null  int64  \n",
      " 7   stays_in_weekend_nights         119390 non-null  int64  \n",
      " 8   stays_in_week_nights            119390 non-null  int64  \n",
      " 9   adults                          119390 non-null  int64  \n",
      " 10  children                        119386 non-null  float64\n",
      " 11  babies                          119390 non-null  int64  \n",
      " 12  meal                            119390 non-null  object \n",
      " 13  country                         118902 non-null  object \n",
      " 14  market_segment                  119390 non-null  object \n",
      " 15  distribution_channel            119390 non-null  object \n",
      " 16  is_repeated_guest               119390 non-null  int64  \n",
      " 17  previous_cancellations          119390 non-null  int64  \n",
      " 18  previous_bookings_not_canceled  119390 non-null  int64  \n",
      " 19  reserved_room_type              119390 non-null  object \n",
      " 20  assigned_room_type              119390 non-null  object \n",
      " 21  booking_changes                 119390 non-null  int64  \n",
      " 22  deposit_type                    119390 non-null  object \n",
      " 23  agent                           103050 non-null  float64\n",
      " 24  company                         6797 non-null    float64\n",
      " 25  days_in_waiting_list            119390 non-null  int64  \n",
      " 26  customer_type                   119390 non-null  object \n",
      " 27  adr                             119390 non-null  float64\n",
      " 28  required_car_parking_spaces     119390 non-null  int64  \n",
      " 29  total_of_special_requests       119390 non-null  int64  \n",
      " 30  reservation_status              119390 non-null  object \n",
      " 31  reservation_status_date         119390 non-null  object \n",
      "dtypes: float64(4), int64(16), object(12)\n",
      "memory usage: 29.1+ MB\n"
     ]
    }
   ],
   "source": [
    "#Exploring the dataset.\n",
    "data.info()"
   ]
  },
  {
   "cell_type": "markdown",
   "id": "2dd61907",
   "metadata": {
    "papermill": {
     "duration": 0.008564,
     "end_time": "2024-05-30T15:46:52.008243",
     "exception": false,
     "start_time": "2024-05-30T15:46:51.999679",
     "status": "completed"
    },
    "tags": []
   },
   "source": [
    "**Now we are changing the datatype of reservation status date from oject to date&time.**"
   ]
  },
  {
   "cell_type": "code",
   "execution_count": 4,
   "id": "427d1ef5",
   "metadata": {
    "execution": {
     "iopub.execute_input": "2024-05-30T15:46:52.028240Z",
     "iopub.status.busy": "2024-05-30T15:46:52.027804Z",
     "iopub.status.idle": "2024-05-30T15:46:52.067180Z",
     "shell.execute_reply": "2024-05-30T15:46:52.066281Z"
    },
    "papermill": {
     "duration": 0.052628,
     "end_time": "2024-05-30T15:46:52.069860",
     "exception": false,
     "start_time": "2024-05-30T15:46:52.017232",
     "status": "completed"
    },
    "tags": []
   },
   "outputs": [],
   "source": [
    "#Changing the datatype\n",
    "data['reservation_status_date']= pd.to_datetime(data['reservation_status_date'])\n"
   ]
  },
  {
   "cell_type": "markdown",
   "id": "6adaa983",
   "metadata": {
    "papermill": {
     "duration": 0.009923,
     "end_time": "2024-05-30T15:46:52.088564",
     "exception": false,
     "start_time": "2024-05-30T15:46:52.078641",
     "status": "completed"
    },
    "tags": []
   },
   "source": [
    "**We are loading the data to see the basic statistics.**"
   ]
  },
  {
   "cell_type": "code",
   "execution_count": 5,
   "id": "01c0c9dc",
   "metadata": {
    "execution": {
     "iopub.execute_input": "2024-05-30T15:46:52.109223Z",
     "iopub.status.busy": "2024-05-30T15:46:52.108569Z",
     "iopub.status.idle": "2024-05-30T15:46:52.256333Z",
     "shell.execute_reply": "2024-05-30T15:46:52.255085Z"
    },
    "papermill": {
     "duration": 0.161563,
     "end_time": "2024-05-30T15:46:52.259360",
     "exception": false,
     "start_time": "2024-05-30T15:46:52.097797",
     "status": "completed"
    },
    "tags": []
   },
   "outputs": [
    {
     "data": {
      "text/html": [
       "<div>\n",
       "<style scoped>\n",
       "    .dataframe tbody tr th:only-of-type {\n",
       "        vertical-align: middle;\n",
       "    }\n",
       "\n",
       "    .dataframe tbody tr th {\n",
       "        vertical-align: top;\n",
       "    }\n",
       "\n",
       "    .dataframe thead th {\n",
       "        text-align: right;\n",
       "    }\n",
       "</style>\n",
       "<table border=\"1\" class=\"dataframe\">\n",
       "  <thead>\n",
       "    <tr style=\"text-align: right;\">\n",
       "      <th></th>\n",
       "      <th>is_canceled</th>\n",
       "      <th>lead_time</th>\n",
       "      <th>arrival_date_year</th>\n",
       "      <th>arrival_date_week_number</th>\n",
       "      <th>arrival_date_day_of_month</th>\n",
       "      <th>stays_in_weekend_nights</th>\n",
       "      <th>stays_in_week_nights</th>\n",
       "      <th>adults</th>\n",
       "      <th>children</th>\n",
       "      <th>babies</th>\n",
       "      <th>...</th>\n",
       "      <th>previous_cancellations</th>\n",
       "      <th>previous_bookings_not_canceled</th>\n",
       "      <th>booking_changes</th>\n",
       "      <th>agent</th>\n",
       "      <th>company</th>\n",
       "      <th>days_in_waiting_list</th>\n",
       "      <th>adr</th>\n",
       "      <th>required_car_parking_spaces</th>\n",
       "      <th>total_of_special_requests</th>\n",
       "      <th>reservation_status_date</th>\n",
       "    </tr>\n",
       "  </thead>\n",
       "  <tbody>\n",
       "    <tr>\n",
       "      <th>count</th>\n",
       "      <td>119390.000000</td>\n",
       "      <td>119390.000000</td>\n",
       "      <td>119390.000000</td>\n",
       "      <td>119390.000000</td>\n",
       "      <td>119390.000000</td>\n",
       "      <td>119390.000000</td>\n",
       "      <td>119390.000000</td>\n",
       "      <td>119390.000000</td>\n",
       "      <td>119386.000000</td>\n",
       "      <td>119390.000000</td>\n",
       "      <td>...</td>\n",
       "      <td>119390.000000</td>\n",
       "      <td>119390.000000</td>\n",
       "      <td>119390.000000</td>\n",
       "      <td>103050.000000</td>\n",
       "      <td>6797.000000</td>\n",
       "      <td>119390.000000</td>\n",
       "      <td>119390.000000</td>\n",
       "      <td>119390.000000</td>\n",
       "      <td>119390.000000</td>\n",
       "      <td>119390</td>\n",
       "    </tr>\n",
       "    <tr>\n",
       "      <th>mean</th>\n",
       "      <td>0.370416</td>\n",
       "      <td>104.011416</td>\n",
       "      <td>2016.156554</td>\n",
       "      <td>27.165173</td>\n",
       "      <td>15.798241</td>\n",
       "      <td>0.927599</td>\n",
       "      <td>2.500302</td>\n",
       "      <td>1.856403</td>\n",
       "      <td>0.103890</td>\n",
       "      <td>0.007949</td>\n",
       "      <td>...</td>\n",
       "      <td>0.087118</td>\n",
       "      <td>0.137097</td>\n",
       "      <td>0.221124</td>\n",
       "      <td>86.693382</td>\n",
       "      <td>189.266735</td>\n",
       "      <td>2.321149</td>\n",
       "      <td>101.831122</td>\n",
       "      <td>0.062518</td>\n",
       "      <td>0.571363</td>\n",
       "      <td>2016-07-30 00:24:47.883407104</td>\n",
       "    </tr>\n",
       "    <tr>\n",
       "      <th>min</th>\n",
       "      <td>0.000000</td>\n",
       "      <td>0.000000</td>\n",
       "      <td>2015.000000</td>\n",
       "      <td>1.000000</td>\n",
       "      <td>1.000000</td>\n",
       "      <td>0.000000</td>\n",
       "      <td>0.000000</td>\n",
       "      <td>0.000000</td>\n",
       "      <td>0.000000</td>\n",
       "      <td>0.000000</td>\n",
       "      <td>...</td>\n",
       "      <td>0.000000</td>\n",
       "      <td>0.000000</td>\n",
       "      <td>0.000000</td>\n",
       "      <td>1.000000</td>\n",
       "      <td>6.000000</td>\n",
       "      <td>0.000000</td>\n",
       "      <td>-6.380000</td>\n",
       "      <td>0.000000</td>\n",
       "      <td>0.000000</td>\n",
       "      <td>2014-10-17 00:00:00</td>\n",
       "    </tr>\n",
       "    <tr>\n",
       "      <th>25%</th>\n",
       "      <td>0.000000</td>\n",
       "      <td>18.000000</td>\n",
       "      <td>2016.000000</td>\n",
       "      <td>16.000000</td>\n",
       "      <td>8.000000</td>\n",
       "      <td>0.000000</td>\n",
       "      <td>1.000000</td>\n",
       "      <td>2.000000</td>\n",
       "      <td>0.000000</td>\n",
       "      <td>0.000000</td>\n",
       "      <td>...</td>\n",
       "      <td>0.000000</td>\n",
       "      <td>0.000000</td>\n",
       "      <td>0.000000</td>\n",
       "      <td>9.000000</td>\n",
       "      <td>62.000000</td>\n",
       "      <td>0.000000</td>\n",
       "      <td>69.290000</td>\n",
       "      <td>0.000000</td>\n",
       "      <td>0.000000</td>\n",
       "      <td>2016-02-01 00:00:00</td>\n",
       "    </tr>\n",
       "    <tr>\n",
       "      <th>50%</th>\n",
       "      <td>0.000000</td>\n",
       "      <td>69.000000</td>\n",
       "      <td>2016.000000</td>\n",
       "      <td>28.000000</td>\n",
       "      <td>16.000000</td>\n",
       "      <td>1.000000</td>\n",
       "      <td>2.000000</td>\n",
       "      <td>2.000000</td>\n",
       "      <td>0.000000</td>\n",
       "      <td>0.000000</td>\n",
       "      <td>...</td>\n",
       "      <td>0.000000</td>\n",
       "      <td>0.000000</td>\n",
       "      <td>0.000000</td>\n",
       "      <td>14.000000</td>\n",
       "      <td>179.000000</td>\n",
       "      <td>0.000000</td>\n",
       "      <td>94.575000</td>\n",
       "      <td>0.000000</td>\n",
       "      <td>0.000000</td>\n",
       "      <td>2016-08-07 00:00:00</td>\n",
       "    </tr>\n",
       "    <tr>\n",
       "      <th>75%</th>\n",
       "      <td>1.000000</td>\n",
       "      <td>160.000000</td>\n",
       "      <td>2017.000000</td>\n",
       "      <td>38.000000</td>\n",
       "      <td>23.000000</td>\n",
       "      <td>2.000000</td>\n",
       "      <td>3.000000</td>\n",
       "      <td>2.000000</td>\n",
       "      <td>0.000000</td>\n",
       "      <td>0.000000</td>\n",
       "      <td>...</td>\n",
       "      <td>0.000000</td>\n",
       "      <td>0.000000</td>\n",
       "      <td>0.000000</td>\n",
       "      <td>229.000000</td>\n",
       "      <td>270.000000</td>\n",
       "      <td>0.000000</td>\n",
       "      <td>126.000000</td>\n",
       "      <td>0.000000</td>\n",
       "      <td>1.000000</td>\n",
       "      <td>2017-02-08 00:00:00</td>\n",
       "    </tr>\n",
       "    <tr>\n",
       "      <th>max</th>\n",
       "      <td>1.000000</td>\n",
       "      <td>737.000000</td>\n",
       "      <td>2017.000000</td>\n",
       "      <td>53.000000</td>\n",
       "      <td>31.000000</td>\n",
       "      <td>19.000000</td>\n",
       "      <td>50.000000</td>\n",
       "      <td>55.000000</td>\n",
       "      <td>10.000000</td>\n",
       "      <td>10.000000</td>\n",
       "      <td>...</td>\n",
       "      <td>26.000000</td>\n",
       "      <td>72.000000</td>\n",
       "      <td>21.000000</td>\n",
       "      <td>535.000000</td>\n",
       "      <td>543.000000</td>\n",
       "      <td>391.000000</td>\n",
       "      <td>5400.000000</td>\n",
       "      <td>8.000000</td>\n",
       "      <td>5.000000</td>\n",
       "      <td>2017-09-14 00:00:00</td>\n",
       "    </tr>\n",
       "    <tr>\n",
       "      <th>std</th>\n",
       "      <td>0.482918</td>\n",
       "      <td>106.863097</td>\n",
       "      <td>0.707476</td>\n",
       "      <td>13.605138</td>\n",
       "      <td>8.780829</td>\n",
       "      <td>0.998613</td>\n",
       "      <td>1.908286</td>\n",
       "      <td>0.579261</td>\n",
       "      <td>0.398561</td>\n",
       "      <td>0.097436</td>\n",
       "      <td>...</td>\n",
       "      <td>0.844336</td>\n",
       "      <td>1.497437</td>\n",
       "      <td>0.652306</td>\n",
       "      <td>110.774548</td>\n",
       "      <td>131.655015</td>\n",
       "      <td>17.594721</td>\n",
       "      <td>50.535790</td>\n",
       "      <td>0.245291</td>\n",
       "      <td>0.792798</td>\n",
       "      <td>NaN</td>\n",
       "    </tr>\n",
       "  </tbody>\n",
       "</table>\n",
       "<p>8 rows × 21 columns</p>\n",
       "</div>"
      ],
      "text/plain": [
       "         is_canceled      lead_time  arrival_date_year  \\\n",
       "count  119390.000000  119390.000000      119390.000000   \n",
       "mean        0.370416     104.011416        2016.156554   \n",
       "min         0.000000       0.000000        2015.000000   \n",
       "25%         0.000000      18.000000        2016.000000   \n",
       "50%         0.000000      69.000000        2016.000000   \n",
       "75%         1.000000     160.000000        2017.000000   \n",
       "max         1.000000     737.000000        2017.000000   \n",
       "std         0.482918     106.863097           0.707476   \n",
       "\n",
       "       arrival_date_week_number  arrival_date_day_of_month  \\\n",
       "count             119390.000000              119390.000000   \n",
       "mean                  27.165173                  15.798241   \n",
       "min                    1.000000                   1.000000   \n",
       "25%                   16.000000                   8.000000   \n",
       "50%                   28.000000                  16.000000   \n",
       "75%                   38.000000                  23.000000   \n",
       "max                   53.000000                  31.000000   \n",
       "std                   13.605138                   8.780829   \n",
       "\n",
       "       stays_in_weekend_nights  stays_in_week_nights         adults  \\\n",
       "count            119390.000000         119390.000000  119390.000000   \n",
       "mean                  0.927599              2.500302       1.856403   \n",
       "min                   0.000000              0.000000       0.000000   \n",
       "25%                   0.000000              1.000000       2.000000   \n",
       "50%                   1.000000              2.000000       2.000000   \n",
       "75%                   2.000000              3.000000       2.000000   \n",
       "max                  19.000000             50.000000      55.000000   \n",
       "std                   0.998613              1.908286       0.579261   \n",
       "\n",
       "            children         babies  ...  previous_cancellations  \\\n",
       "count  119386.000000  119390.000000  ...           119390.000000   \n",
       "mean        0.103890       0.007949  ...                0.087118   \n",
       "min         0.000000       0.000000  ...                0.000000   \n",
       "25%         0.000000       0.000000  ...                0.000000   \n",
       "50%         0.000000       0.000000  ...                0.000000   \n",
       "75%         0.000000       0.000000  ...                0.000000   \n",
       "max        10.000000      10.000000  ...               26.000000   \n",
       "std         0.398561       0.097436  ...                0.844336   \n",
       "\n",
       "       previous_bookings_not_canceled  booking_changes          agent  \\\n",
       "count                   119390.000000    119390.000000  103050.000000   \n",
       "mean                         0.137097         0.221124      86.693382   \n",
       "min                          0.000000         0.000000       1.000000   \n",
       "25%                          0.000000         0.000000       9.000000   \n",
       "50%                          0.000000         0.000000      14.000000   \n",
       "75%                          0.000000         0.000000     229.000000   \n",
       "max                         72.000000        21.000000     535.000000   \n",
       "std                          1.497437         0.652306     110.774548   \n",
       "\n",
       "           company  days_in_waiting_list            adr  \\\n",
       "count  6797.000000         119390.000000  119390.000000   \n",
       "mean    189.266735              2.321149     101.831122   \n",
       "min       6.000000              0.000000      -6.380000   \n",
       "25%      62.000000              0.000000      69.290000   \n",
       "50%     179.000000              0.000000      94.575000   \n",
       "75%     270.000000              0.000000     126.000000   \n",
       "max     543.000000            391.000000    5400.000000   \n",
       "std     131.655015             17.594721      50.535790   \n",
       "\n",
       "       required_car_parking_spaces  total_of_special_requests  \\\n",
       "count                119390.000000              119390.000000   \n",
       "mean                      0.062518                   0.571363   \n",
       "min                       0.000000                   0.000000   \n",
       "25%                       0.000000                   0.000000   \n",
       "50%                       0.000000                   0.000000   \n",
       "75%                       0.000000                   1.000000   \n",
       "max                       8.000000                   5.000000   \n",
       "std                       0.245291                   0.792798   \n",
       "\n",
       "             reservation_status_date  \n",
       "count                         119390  \n",
       "mean   2016-07-30 00:24:47.883407104  \n",
       "min              2014-10-17 00:00:00  \n",
       "25%              2016-02-01 00:00:00  \n",
       "50%              2016-08-07 00:00:00  \n",
       "75%              2017-02-08 00:00:00  \n",
       "max              2017-09-14 00:00:00  \n",
       "std                              NaN  \n",
       "\n",
       "[8 rows x 21 columns]"
      ]
     },
     "execution_count": 5,
     "metadata": {},
     "output_type": "execute_result"
    }
   ],
   "source": [
    "#Now we are reading the basic statistics of the dataset.\n",
    "data.describe()"
   ]
  },
  {
   "cell_type": "markdown",
   "id": "336e5de4",
   "metadata": {
    "papermill": {
     "duration": 0.009382,
     "end_time": "2024-05-30T15:46:52.278353",
     "exception": false,
     "start_time": "2024-05-30T15:46:52.268971",
     "status": "completed"
    },
    "tags": []
   },
   "source": [
    "**Checking for the missing values in the dataset.**"
   ]
  },
  {
   "cell_type": "code",
   "execution_count": 6,
   "id": "419235bd",
   "metadata": {
    "execution": {
     "iopub.execute_input": "2024-05-30T15:46:52.300462Z",
     "iopub.status.busy": "2024-05-30T15:46:52.300042Z",
     "iopub.status.idle": "2024-05-30T15:46:52.451293Z",
     "shell.execute_reply": "2024-05-30T15:46:52.450145Z"
    },
    "papermill": {
     "duration": 0.165326,
     "end_time": "2024-05-30T15:46:52.453867",
     "exception": false,
     "start_time": "2024-05-30T15:46:52.288541",
     "status": "completed"
    },
    "tags": []
   },
   "outputs": [
    {
     "data": {
      "text/plain": [
       "hotel                                  0\n",
       "is_canceled                            0\n",
       "lead_time                              0\n",
       "arrival_date_year                      0\n",
       "arrival_date_month                     0\n",
       "arrival_date_week_number               0\n",
       "arrival_date_day_of_month              0\n",
       "stays_in_weekend_nights                0\n",
       "stays_in_week_nights                   0\n",
       "adults                                 0\n",
       "children                               4\n",
       "babies                                 0\n",
       "meal                                   0\n",
       "country                              488\n",
       "market_segment                         0\n",
       "distribution_channel                   0\n",
       "is_repeated_guest                      0\n",
       "previous_cancellations                 0\n",
       "previous_bookings_not_canceled         0\n",
       "reserved_room_type                     0\n",
       "assigned_room_type                     0\n",
       "booking_changes                        0\n",
       "deposit_type                           0\n",
       "agent                              16340\n",
       "company                           112593\n",
       "days_in_waiting_list                   0\n",
       "customer_type                          0\n",
       "adr                                    0\n",
       "required_car_parking_spaces            0\n",
       "total_of_special_requests              0\n",
       "reservation_status                     0\n",
       "reservation_status_date                0\n",
       "dtype: int64"
      ]
     },
     "execution_count": 6,
     "metadata": {},
     "output_type": "execute_result"
    }
   ],
   "source": [
    "#Checking the missing values\n",
    "data.isnull().sum()"
   ]
  },
  {
   "cell_type": "markdown",
   "id": "f509e097",
   "metadata": {
    "papermill": {
     "duration": 0.009414,
     "end_time": "2024-05-30T15:46:52.472995",
     "exception": false,
     "start_time": "2024-05-30T15:46:52.463581",
     "status": "completed"
    },
    "tags": []
   },
   "source": [
    "**Question 1: Relationship Between Lead Time and Cancellation?**"
   ]
  },
  {
   "cell_type": "code",
   "execution_count": 7,
   "id": "387d596b",
   "metadata": {
    "execution": {
     "iopub.execute_input": "2024-05-30T15:46:52.495788Z",
     "iopub.status.busy": "2024-05-30T15:46:52.494679Z",
     "iopub.status.idle": "2024-05-30T15:46:52.923931Z",
     "shell.execute_reply": "2024-05-30T15:46:52.922695Z"
    },
    "papermill": {
     "duration": 0.443058,
     "end_time": "2024-05-30T15:46:52.926526",
     "exception": false,
     "start_time": "2024-05-30T15:46:52.483468",
     "status": "completed"
    },
    "tags": []
   },
   "outputs": [
    {
     "data": {
      "image/png": "[encoded data removed]",
      "text/plain": [
       "<Figure size 640x480 with 1 Axes>"
      ]
     },
     "metadata": {},
     "output_type": "display_data"
    }
   ],
   "source": [
    "#ploting the relationship of lead time and cancellation.\n",
    "sns.boxplot(x='is_canceled', y='lead_time', data=data)\n",
    "plt.title('Lead Time vs Cancellation') #labelling the title. \n",
    "plt.xlabel('Is cancelled') #labelling the xlabel.\n",
    "plt.ylabel('Lead Time') #labelling the ylabel.\n",
    "plt.show()\n"
   ]
  },
  {
   "cell_type": "markdown",
   "id": "aaab5ed8",
   "metadata": {
    "papermill": {
     "duration": 0.010759,
     "end_time": "2024-05-30T15:46:52.948455",
     "exception": false,
     "start_time": "2024-05-30T15:46:52.937696",
     "status": "completed"
    },
    "tags": []
   },
   "source": [
    "**Canceled bookings tend to have a higher lead time compared to non-canceled bookings, this suggests that customers who book far in advance are more likely to cancel their bookings.**"
   ]
  },
  {
   "cell_type": "markdown",
   "id": "71f30d7f",
   "metadata": {
    "papermill": {
     "duration": 0.009892,
     "end_time": "2024-05-30T15:46:52.969186",
     "exception": false,
     "start_time": "2024-05-30T15:46:52.959294",
     "status": "completed"
    },
    "tags": []
   },
   "source": [
    "**Question 2: What is the relationship between deposit type and cancellation?**"
   ]
  },
  {
   "cell_type": "code",
   "execution_count": 8,
   "id": "451fec1c",
   "metadata": {
    "execution": {
     "iopub.execute_input": "2024-05-30T15:46:52.992591Z",
     "iopub.status.busy": "2024-05-30T15:46:52.992173Z",
     "iopub.status.idle": "2024-05-30T15:46:53.464169Z",
     "shell.execute_reply": "2024-05-30T15:46:53.463181Z"
    },
    "papermill": {
     "duration": 0.486681,
     "end_time": "2024-05-30T15:46:53.466818",
     "exception": false,
     "start_time": "2024-05-30T15:46:52.980137",
     "status": "completed"
    },
    "tags": []
   },
   "outputs": [
    {
     "data": {
      "image/png": "[encoded data removed]",
      "text/plain": [
       "<Figure size 640x480 with 1 Axes>"
      ]
     },
     "metadata": {},
     "output_type": "display_data"
    }
   ],
   "source": [
    "#ploting the relationship of deposit and cancellation.\n",
    "sns.countplot(x='deposit_type', hue='is_canceled', data=data)\n",
    "plt.title('Deposit Type vs Cancellation') #labelling the title. \n",
    "plt.xlabel('Deposit Type') #labelling the xlabel.\n",
    "plt.ylabel('Cancellation Count') #labelling the ylabel.\n",
    "plt.show()"
   ]
  },
  {
   "cell_type": "markdown",
   "id": "b6575a1a",
   "metadata": {
    "papermill": {
     "duration": 0.010532,
     "end_time": "2024-05-30T15:46:53.489271",
     "exception": false,
     "start_time": "2024-05-30T15:46:53.478739",
     "status": "completed"
    },
    "tags": []
   },
   "source": [
    "**The majority of bookings with \"No Deposit\" have higher cancellation rates. Bookings with \"Non Refund\" and \"Refundable\" deposits have lower cancellation rates, indicating that customers are less likely to cancel when they have a financial commitment.**"
   ]
  },
  {
   "cell_type": "markdown",
   "id": "d8f18a01",
   "metadata": {
    "papermill": {
     "duration": 0.010315,
     "end_time": "2024-05-30T15:46:53.510497",
     "exception": false,
     "start_time": "2024-05-30T15:46:53.500182",
     "status": "completed"
    },
    "tags": []
   },
   "source": [
    "**Question 3: What is the relationship between market segment and cancellation?**"
   ]
  },
  {
   "cell_type": "code",
   "execution_count": 9,
   "id": "70627403",
   "metadata": {
    "execution": {
     "iopub.execute_input": "2024-05-30T15:46:53.534357Z",
     "iopub.status.busy": "2024-05-30T15:46:53.533918Z",
     "iopub.status.idle": "2024-05-30T15:46:54.082932Z",
     "shell.execute_reply": "2024-05-30T15:46:54.081238Z"
    },
    "papermill": {
     "duration": 0.56447,
     "end_time": "2024-05-30T15:46:54.085694",
     "exception": false,
     "start_time": "2024-05-30T15:46:53.521224",
     "status": "completed"
    },
    "tags": []
   },
   "outputs": [
    {
     "data": {
      "image/png": "[encoded data removed]",
      "text/plain": [
       "<Figure size 640x480 with 1 Axes>"
      ]
     },
     "metadata": {},
     "output_type": "display_data"
    }
   ],
   "source": [
    "#ploting the relationship of market segment and cancellation.\n",
    "sns.countplot(x='market_segment', hue='is_canceled', data=data)\n",
    "plt.title('Market Segment vs Cancellation') #labelling the title.\n",
    "plt.xlabel('Market Segment') #labelling the xlabel.\n",
    "plt.xticks(rotation=45, ha='right')\n",
    "plt.ylabel('Cancellation Count') #labelling the ylabel.\n",
    "plt.show()"
   ]
  },
  {
   "cell_type": "markdown",
   "id": "00bc7d81",
   "metadata": {
    "papermill": {
     "duration": 0.010973,
     "end_time": "2024-05-30T15:46:54.108299",
     "exception": false,
     "start_time": "2024-05-30T15:46:54.097326",
     "status": "completed"
    },
    "tags": []
   },
   "source": [
    "**The \"Online TA\" (Travel Agents) segment has the highest number of cancellations. Other segments like \"Groups\" and \"Corporate\" have relatively lower cancellation rates.This indicates that bookings made through online travel agents are more prone to cancellations.**"
   ]
  },
  {
   "cell_type": "markdown",
   "id": "85a2201c",
   "metadata": {
    "papermill": {
     "duration": 0.011128,
     "end_time": "2024-05-30T15:46:54.131263",
     "exception": false,
     "start_time": "2024-05-30T15:46:54.120135",
     "status": "completed"
    },
    "tags": []
   },
   "source": [
    "**Question 4: What is the relationship between previous cancellations and cancellations?**"
   ]
  },
  {
   "cell_type": "code",
   "execution_count": 10,
   "id": "b14f0e7b",
   "metadata": {
    "execution": {
     "iopub.execute_input": "2024-05-30T15:46:54.164533Z",
     "iopub.status.busy": "2024-05-30T15:46:54.162718Z",
     "iopub.status.idle": "2024-05-30T15:46:54.704517Z",
     "shell.execute_reply": "2024-05-30T15:46:54.703565Z"
    },
    "papermill": {
     "duration": 0.561938,
     "end_time": "2024-05-30T15:46:54.707058",
     "exception": false,
     "start_time": "2024-05-30T15:46:54.145120",
     "status": "completed"
    },
    "tags": []
   },
   "outputs": [
    {
     "data": {
      "image/png": "[encoded data removed]",
      "text/plain": [
       "<Figure size 640x480 with 1 Axes>"
      ]
     },
     "metadata": {},
     "output_type": "display_data"
    }
   ],
   "source": [
    "#ploting the relationship of previous cancellation and cancellation.\n",
    "sns.countplot(x='previous_cancellations', hue='is_canceled', data=data)\n",
    "plt.title('Previous Cancellations vs Current Cancellations') #labelling the title.\n",
    "plt.xlabel('Previous Cancellations') #labelling the xlabel.\n",
    "plt.ylabel('Cancellation Count') #labelling the ylabel.\n",
    "plt.show()\n"
   ]
  },
  {
   "cell_type": "markdown",
   "id": "7a09d337",
   "metadata": {
    "papermill": {
     "duration": 0.011795,
     "end_time": "2024-05-30T15:46:54.731433",
     "exception": false,
     "start_time": "2024-05-30T15:46:54.719638",
     "status": "completed"
    },
    "tags": []
   },
   "source": [
    "**Customers with previous cancellations are more likely to cancel again. The cancellation increases significantly if a customer has previously canceled multiple times.**"
   ]
  },
  {
   "cell_type": "markdown",
   "id": "16de8e86",
   "metadata": {
    "papermill": {
     "duration": 0.01253,
     "end_time": "2024-05-30T15:46:54.756248",
     "exception": false,
     "start_time": "2024-05-30T15:46:54.743718",
     "status": "completed"
    },
    "tags": []
   },
   "source": [
    "**Question 5: How much does the price in hotels vary over the year?**"
   ]
  },
  {
   "cell_type": "code",
   "execution_count": 11,
   "id": "619c8f5e",
   "metadata": {
    "execution": {
     "iopub.execute_input": "2024-05-30T15:46:54.782864Z",
     "iopub.status.busy": "2024-05-30T15:46:54.782091Z",
     "iopub.status.idle": "2024-05-30T15:46:56.157006Z",
     "shell.execute_reply": "2024-05-30T15:46:56.155513Z"
    },
    "papermill": {
     "duration": 1.391427,
     "end_time": "2024-05-30T15:46:56.159835",
     "exception": false,
     "start_time": "2024-05-30T15:46:54.768408",
     "status": "completed"
    },
    "tags": []
   },
   "outputs": [
    {
     "name": "stderr",
     "output_type": "stream",
     "text": [
      "/opt/conda/lib/python3.10/site-packages/seaborn/_oldcore.py:1119: FutureWarning: use_inf_as_na option is deprecated and will be removed in a future version. Convert inf values to NaN before operating instead.\n",
      "  with pd.option_context('mode.use_inf_as_na', True):\n",
      "/opt/conda/lib/python3.10/site-packages/seaborn/_oldcore.py:1119: FutureWarning: use_inf_as_na option is deprecated and will be removed in a future version. Convert inf values to NaN before operating instead.\n",
      "  with pd.option_context('mode.use_inf_as_na', True):\n"
     ]
    },
    {
     "data": {
      "image/png": "[encoded data removed]",
      "text/plain": [
       "<Figure size 640x480 with 1 Axes>"
      ]
     },
     "metadata": {},
     "output_type": "display_data"
    }
   ],
   "source": [
    "#ploting the price variation.\n",
    "data['year'] = pd.to_datetime(data['reservation_status_date']).dt.year\n",
    "sns.lineplot(x='year', y='adr', data=data)\n",
    "plt.title('Monthly Price Variation') #labelling the title.\n",
    "plt.xlabel('Month') #labelling the xlabel.\n",
    "plt.ylabel('Average Daily Rate') #labelling the ylabel.\n",
    "plt.show()"
   ]
  },
  {
   "cell_type": "markdown",
   "id": "22332218",
   "metadata": {
    "papermill": {
     "duration": 0.015736,
     "end_time": "2024-05-30T15:46:56.189035",
     "exception": false,
     "start_time": "2024-05-30T15:46:56.173299",
     "status": "completed"
    },
    "tags": []
   },
   "source": [
    "**There is a clear variation in prices over the year.\n",
    "Prices tend to be higher during peak holiday seasons and lower during off-peak periods.\n",
    "This indicates seasonal pricing strategies employed by hotels to maximize revenue.**"
   ]
  },
  {
   "cell_type": "markdown",
   "id": "a299b870",
   "metadata": {
    "papermill": {
     "duration": 0.012432,
     "end_time": "2024-05-30T15:46:56.214655",
     "exception": false,
     "start_time": "2024-05-30T15:46:56.202223",
     "status": "completed"
    },
    "tags": []
   },
   "source": [
    "**Summary**"
   ]
  },
  {
   "cell_type": "markdown",
   "id": "ee96930c",
   "metadata": {
    "papermill": {
     "duration": 0.012436,
     "end_time": "2024-05-30T15:46:56.239942",
     "exception": false,
     "start_time": "2024-05-30T15:46:56.227506",
     "status": "completed"
    },
    "tags": []
   },
   "source": [
    "**The analysis shows that bookings made well in advance, those with \"No Deposit,\" and those through online travel agents have higher cancellation rates. Customers with prior cancellations are more likely to cancel again. Prices vary seasonally, peaking during holidays and dropping in off-peak times. These insights highlight the need for targeted strategies to manage cancellations and optimize pricing year-round.**"
   ]
  }
 ],
 "metadata": {
  "kaggle": {
   "accelerator": "none",
   "dataSources": [
    {
     "datasetId": 511638,
     "sourceId": 944030,
     "sourceType": "datasetVersion"
    }
   ],
   "dockerImageVersionId": 30698,
   "isGpuEnabled": false,
   "isInternetEnabled": true,
   "language": "python",
   "sourceType": "notebook"
  },
  "kernelspec": {
   "display_name": "Python 3",
   "language": "python",
   "name": "python3"
  },
  "language_info": {
   "codemirror_mode": {
    "name": "ipython",
    "version": 3
   },
   "file_extension": ".py",
   "mimetype": "text/x-python",
   "name": "python",
   "nbconvert_exporter": "python",
   "pygments_lexer": "ipython3",
   "version": "3.10.13"
  },
  "papermill": {
   "default_parameters": {},
   "duration": 11.825791,
   "end_time": "2024-05-30T15:46:56.876281",
   "environment_variables": {},
   "exception": null,
   "input_path": "__notebook__.ipynb",
   "output_path": "__notebook__.ipynb",
   "parameters": {},
   "start_time": "2024-05-30T15:46:45.050490",
   "version": "2.5.0"
  }
 },
 "nbformat": 4,
 "nbformat_minor": 5
}
